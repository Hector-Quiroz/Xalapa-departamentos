{
 "cells": [
  {
   "cell_type": "markdown",
   "id": "0a558921-ddfc-4509-9abd-bbd30b7bbdc4",
   "metadata": {},
   "source": [
    "# Analisis estadistico de precios de departamentos en Xalapa"
   ]
  },
  {
   "cell_type": "markdown",
   "id": "b7d50b82-fe0f-4ac5-97b0-406d9bcba8ed",
   "metadata": {},
   "source": [
    "Importamos librerias"
   ]
  },
  {
   "cell_type": "code",
   "execution_count": 271,
   "id": "982ae225-1198-483d-abdd-af674f8a4099",
   "metadata": {},
   "outputs": [],
   "source": [
    "import pandas as pd\n",
    "from selenium import webdriver\n",
    "from selenium.webdriver.chrome.service import Service\n",
    "from selenium.webdriver.chrome.options import Options\n",
    "from selenium.webdriver.common.by import By\n",
    "from bs4 import BeautifulSoup\n",
    "import os"
   ]
  },
  {
   "cell_type": "markdown",
   "id": "fe17083e-8387-4968-8fc4-a3c1c1e258b7",
   "metadata": {},
   "source": [
    "Configuramos Selenium"
   ]
  },
  {
   "cell_type": "code",
   "execution_count": 272,
   "id": "fa15d00f-dd86-41c9-949c-f3803eec4d41",
   "metadata": {},
   "outputs": [
    {
     "name": "stderr",
     "output_type": "stream",
     "text": [
      "C:\\Users\\hrqg_\\AppData\\Local\\Temp\\ipykernel_9088\\565698126.py:2: DeprecationWarning: headless property is deprecated, instead use add_argument('--headless') or add_argument('--headless=new')\n",
      "  options.headless = True\n"
     ]
    }
   ],
   "source": [
    "options = Options()\n",
    "options.headless = True"
   ]
  },
  {
   "cell_type": "markdown",
   "id": "362c0baf-4767-4b1d-8dee-dc4d9dcb971c",
   "metadata": {},
   "source": [
    "Configurar ubicacion del driver de Chrome"
   ]
  },
  {
   "cell_type": "code",
   "execution_count": 273,
   "id": "8d139d66-804c-46ac-912d-3556a292058d",
   "metadata": {},
   "outputs": [],
   "source": [
    "service = Service('C:\\chromedriver.exe')"
   ]
  },
  {
   "cell_type": "markdown",
   "id": "3da230bb-86be-41b8-85b7-642e3b462377",
   "metadata": {},
   "source": [
    "Creamos nuestras listas, donde almacenaremos nuestras cadenas"
   ]
  },
  {
   "cell_type": "code",
   "execution_count": 274,
   "id": "c2121f43-fcc9-489d-b573-5b03c71dfff7",
   "metadata": {},
   "outputs": [],
   "source": [
    "preciosD = []\n",
    "direccionesD = []\n",
    "areaD = []\n",
    "cuartosD = []\n",
    "banosD = []\n",
    "\n",
    "precios = []\n",
    "direcciones = []\n",
    "area = []\n",
    "cuartos = []\n",
    "banos = []"
   ]
  },
  {
   "cell_type": "markdown",
   "id": "621b7961-9fdb-4a96-93a3-6d53ff9b246c",
   "metadata": {},
   "source": [
    "Iniciamos la instancia del navegador Google"
   ]
  },
  {
   "cell_type": "code",
   "execution_count": 275,
   "id": "51673415-89dd-4475-bc68-69d7a2681694",
   "metadata": {},
   "outputs": [],
   "source": [
    "driver = webdriver.Chrome(service = service, options = options)"
   ]
  },
  {
   "cell_type": "markdown",
   "id": "f427a899-167f-4849-8db4-379a3c34ecdc",
   "metadata": {},
   "source": [
    "Navegar a la página web"
   ]
  },
  {
   "cell_type": "code",
   "execution_count": 276,
   "id": "d6166deb-5a88-4b3c-9b99-11a4d894f390",
   "metadata": {},
   "outputs": [],
   "source": [
    "# url = 'https://www.icasas.mx/renta/habitacionales-departamentos-veracruz-xalapa-enriquez-2_3_30_0_2277_0'\n",
    "#3driver.get(url)"
   ]
  },
  {
   "cell_type": "markdown",
   "id": "475dcc77-f1f3-49e5-95d8-78a882fcf753",
   "metadata": {},
   "source": [
    "Esperar a que la página se cargue completamente"
   ]
  },
  {
   "cell_type": "code",
   "execution_count": 277,
   "id": "e5b6feb3-d4f2-4e1d-8d47-31ece6d70ed6",
   "metadata": {},
   "outputs": [],
   "source": [
    "# driver.implicitly_wait(10)"
   ]
  },
  {
   "cell_type": "markdown",
   "id": "1e4899c8-28f8-4b16-bcf5-3b85bf4c5b3b",
   "metadata": {},
   "source": [
    "Obtener el HTML de la página"
   ]
  },
  {
   "cell_type": "code",
   "execution_count": 278,
   "id": "787bdb5c-3dbc-40c9-a82a-f6988b905f84",
   "metadata": {},
   "outputs": [],
   "source": [
    "# html = driver.page_source"
   ]
  },
  {
   "cell_type": "markdown",
   "id": "395b6173-e46c-4e71-9295-998baf8e1e0e",
   "metadata": {},
   "source": [
    "Parsear el HTML con Beautiful Soup"
   ]
  },
  {
   "cell_type": "code",
   "execution_count": 279,
   "id": "a48691df-8c45-4e0c-bace-90bc61b20b87",
   "metadata": {},
   "outputs": [],
   "source": [
    "# soup = BeautifulSoup(html, 'html.parser')"
   ]
  },
  {
   "cell_type": "markdown",
   "id": "d356b693-647f-42e9-ac50-07b92fe70767",
   "metadata": {},
   "source": [
    "Encontramos los elementos HTML de los productos"
   ]
  },
  {
   "cell_type": "code",
   "execution_count": 280,
   "id": "3016f9de-1967-4199-a5ad-89aea4173e39",
   "metadata": {},
   "outputs": [
    {
     "data": {
      "text/plain": [
       "\"\\nfor tarjeta in soup.find_all('div', attrs = {'class':'data'}):\\n    precio = tarjeta.find('div', attrs = {'class':'price'})\\n    preciosD.append(precio.text)\\n    \\n    direccion = tarjeta.find('a', attrs = {'class':'detail-redirection'})\\n    direccionesD.append(direccion.text)\\n    \\n    area = tarjeta.find('span', attrs = {'class':'areaBuilt'})\\n    areaD.append(area.text) if area else areaD.append('N/A')\\n    \\n    cuarto = tarjeta.find('span', attrs = {'class':'rooms'})\\n    cuartos.append(cuarto.text)\\n    \\n    bano = tarjeta.find('span', attrs = {'class':'bathrooms'})\\n    banos.append(bano.text)\\n\""
      ]
     },
     "execution_count": 280,
     "metadata": {},
     "output_type": "execute_result"
    }
   ],
   "source": [
    "\"\"\"\n",
    "for tarjeta in soup.find_all('div', attrs = {'class':'data'}):\n",
    "    precio = tarjeta.find('div', attrs = {'class':'price'})\n",
    "    preciosD.append(precio.text)\n",
    "    \n",
    "    direccion = tarjeta.find('a', attrs = {'class':'detail-redirection'})\n",
    "    direccionesD.append(direccion.text)\n",
    "    \n",
    "    area = tarjeta.find('span', attrs = {'class':'areaBuilt'})\n",
    "    areaD.append(area.text) if area else areaD.append('N/A')\n",
    "    \n",
    "    cuarto = tarjeta.find('span', attrs = {'class':'rooms'})\n",
    "    cuartos.append(cuarto.text)\n",
    "    \n",
    "    bano = tarjeta.find('span', attrs = {'class':'bathrooms'})\n",
    "    banos.append(bano.text)\n",
    "\"\"\""
   ]
  },
  {
   "cell_type": "markdown",
   "id": "ac02cd83-a67b-4330-856b-ca707613626b",
   "metadata": {},
   "source": [
    "## Union de operaciones"
   ]
  },
  {
   "cell_type": "markdown",
   "id": "51ea1383-d92e-43aa-9b09-4237cf75eb36",
   "metadata": {},
   "source": [
    "Definimos las paginas sobre las que iteraremos para obtener las paginas"
   ]
  },
  {
   "cell_type": "code",
   "execution_count": 281,
   "id": "1409c3dc-c4c6-45c3-87cb-a058a38e793b",
   "metadata": {},
   "outputs": [],
   "source": [
    "paginas = ['https://www.icasas.mx/renta/habitacionales-departamentos-veracruz-xalapa-enriquez-2_3_30_0_2277_0/',\n",
    "          'https://www.icasas.mx/renta/habitacionales-departamentos-veracruz-xalapa-enriquez-2_3_30_0_2277_0/p_2',\n",
    "          'https://www.icasas.mx/renta/habitacionales-departamentos-veracruz-xalapa-enriquez-2_3_30_0_2277_0/p_3',\n",
    "          'https://www.icasas.mx/renta/habitacionales-departamentos-veracruz-xalapa-enriquez-2_3_30_0_2277_0/p_4']"
   ]
  },
  {
   "cell_type": "code",
   "execution_count": 282,
   "id": "4ea6508a-68a2-435e-a903-ef926619d134",
   "metadata": {},
   "outputs": [],
   "source": [
    "for url in paginas:\n",
    "    driver.get(url)\n",
    "    driver.implicitly_wait(10)\n",
    "    html = driver.page_source\n",
    "    soup = BeautifulSoup(html, 'html.parser')\n",
    "    \n",
    "    for tarjeta in soup.find_all('div', attrs = {'class':'data'}):\n",
    "        precio = tarjeta.find('div', attrs = {'class':'price'})\n",
    "        preciosD.append(precio.text) if precio else precioD.append('N/A')\n",
    "\n",
    "        direccion = tarjeta.find('a', attrs = {'class':'detail-redirection'})\n",
    "        direccionesD.append(direccion.text) if direccion else direccionesD.append('N/A')\n",
    "\n",
    "        area = tarjeta.find('span', attrs = {'class':'areaBuilt'})\n",
    "        areaD.append(area.text) if area else areaD.append('N/A')\n",
    "\n",
    "        cuarto = tarjeta.find('span', attrs = {'class':'rooms'})\n",
    "        cuartos.append(cuarto.text) if cuarto else cuartos.append('N/A')\n",
    "\n",
    "        bano = tarjeta.find('span', attrs = {'class':'bathrooms'})\n",
    "        banos.append(bano.text) if bano else banos.append('N/A')"
   ]
  },
  {
   "cell_type": "markdown",
   "id": "7c706911-ca17-473e-bd5c-b842b9355d70",
   "metadata": {},
   "source": [
    "Limpieza de datos, se podria realizar la limpieza en el bucle for."
   ]
  },
  {
   "cell_type": "code",
   "execution_count": 283,
   "id": "ccd6b95b-9876-4ddd-b083-e6ec6e7b83c3",
   "metadata": {},
   "outputs": [],
   "source": [
    "precios = list(map(lambda cadena: cadena.replace('\\t', ''), preciosD)) # Hecho"
   ]
  },
  {
   "cell_type": "code",
   "execution_count": 284,
   "id": "b0f2e300-89b9-4c50-9f83-29ccb584ad1f",
   "metadata": {},
   "outputs": [],
   "source": [
    "direcciones = list(map(lambda cadena: cadena.replace('Departamento en  ', ''), direccionesD))"
   ]
  },
  {
   "cell_type": "code",
   "execution_count": 285,
   "id": "c872c35f-e26e-49d6-88b4-c35fef5a865a",
   "metadata": {},
   "outputs": [],
   "source": [
    "area = list(map(lambda cadena: cadena.replace('m2', ''), areaD))"
   ]
  },
  {
   "cell_type": "code",
   "execution_count": 286,
   "id": "e10fa5f7-a49d-48e8-abb1-8113bffa4ad3",
   "metadata": {},
   "outputs": [],
   "source": [
    "df = pd.DataFrame({'Precio':precios, 'Direccion':direcciones, 'Area':area, 'Cuartos': cuartos, 'Baños': banos})"
   ]
  },
  {
   "cell_type": "markdown",
   "id": "34b8868d-c26c-4ef2-897a-e849edfadbba",
   "metadata": {},
   "source": [
    "Visualización de DataFrame"
   ]
  },
  {
   "cell_type": "code",
   "execution_count": 287,
   "id": "197b1e3e-0760-40cd-8693-ec61e5835c40",
   "metadata": {},
   "outputs": [
    {
     "data": {
      "text/html": [
       "<div>\n",
       "<style scoped>\n",
       "    .dataframe tbody tr th:only-of-type {\n",
       "        vertical-align: middle;\n",
       "    }\n",
       "\n",
       "    .dataframe tbody tr th {\n",
       "        vertical-align: top;\n",
       "    }\n",
       "\n",
       "    .dataframe thead th {\n",
       "        text-align: right;\n",
       "    }\n",
       "</style>\n",
       "<table border=\"1\" class=\"dataframe\">\n",
       "  <thead>\n",
       "    <tr style=\"text-align: right;\">\n",
       "      <th></th>\n",
       "      <th>Precio</th>\n",
       "      <th>Direccion</th>\n",
       "      <th>Area</th>\n",
       "      <th>Cuartos</th>\n",
       "      <th>Baños</th>\n",
       "    </tr>\n",
       "  </thead>\n",
       "  <tbody>\n",
       "    <tr>\n",
       "      <th>102</th>\n",
       "      <td>4,950 MX$</td>\n",
       "      <td>Badillo, Xalapa</td>\n",
       "      <td>N/A</td>\n",
       "      <td>2</td>\n",
       "      <td>1</td>\n",
       "    </tr>\n",
       "    <tr>\n",
       "      <th>103</th>\n",
       "      <td>6,300 MX$</td>\n",
       "      <td>Francisco Ferrer Guardia, Xalapa-enríquez</td>\n",
       "      <td>N/A</td>\n",
       "      <td>N/A</td>\n",
       "      <td>1</td>\n",
       "    </tr>\n",
       "    <tr>\n",
       "      <th>104</th>\n",
       "      <td>5,000 MX$</td>\n",
       "      <td>Jardines De Las Ánimas, Xalapa</td>\n",
       "      <td>N/A</td>\n",
       "      <td>1</td>\n",
       "      <td>N/A</td>\n",
       "    </tr>\n",
       "    <tr>\n",
       "      <th>105</th>\n",
       "      <td>4,200 MX$</td>\n",
       "      <td>Del Maestro, Xalapa-enríquez</td>\n",
       "      <td>60</td>\n",
       "      <td>2</td>\n",
       "      <td>2</td>\n",
       "    </tr>\n",
       "    <tr>\n",
       "      <th>106</th>\n",
       "      <td>11,500 MX$</td>\n",
       "      <td>Xalapa Enríquez Centro, Xalapa</td>\n",
       "      <td>38</td>\n",
       "      <td>1</td>\n",
       "      <td>1</td>\n",
       "    </tr>\n",
       "  </tbody>\n",
       "</table>\n",
       "</div>"
      ],
      "text/plain": [
       "         Precio                                  Direccion Area Cuartos Baños\n",
       "102   4,950 MX$                            Badillo, Xalapa  N/A       2     1\n",
       "103   6,300 MX$  Francisco Ferrer Guardia, Xalapa-enríquez  N/A     N/A     1\n",
       "104   5,000 MX$             Jardines De Las Ánimas, Xalapa  N/A       1   N/A\n",
       "105   4,200 MX$               Del Maestro, Xalapa-enríquez   60       2     2\n",
       "106  11,500 MX$             Xalapa Enríquez Centro, Xalapa   38       1     1"
      ]
     },
     "execution_count": 287,
     "metadata": {},
     "output_type": "execute_result"
    }
   ],
   "source": [
    "df.tail()"
   ]
  },
  {
   "cell_type": "code",
   "execution_count": 288,
   "id": "13efeb68-e16b-465a-abfc-5509314f9a3a",
   "metadata": {},
   "outputs": [
    {
     "data": {
      "text/html": [
       "<div>\n",
       "<style scoped>\n",
       "    .dataframe tbody tr th:only-of-type {\n",
       "        vertical-align: middle;\n",
       "    }\n",
       "\n",
       "    .dataframe tbody tr th {\n",
       "        vertical-align: top;\n",
       "    }\n",
       "\n",
       "    .dataframe thead th {\n",
       "        text-align: right;\n",
       "    }\n",
       "</style>\n",
       "<table border=\"1\" class=\"dataframe\">\n",
       "  <thead>\n",
       "    <tr style=\"text-align: right;\">\n",
       "      <th></th>\n",
       "      <th>Precio</th>\n",
       "      <th>Direccion</th>\n",
       "      <th>Area</th>\n",
       "      <th>Cuartos</th>\n",
       "      <th>Baños</th>\n",
       "    </tr>\n",
       "  </thead>\n",
       "  <tbody>\n",
       "    <tr>\n",
       "      <th>count</th>\n",
       "      <td>107</td>\n",
       "      <td>107</td>\n",
       "      <td>107</td>\n",
       "      <td>107</td>\n",
       "      <td>107</td>\n",
       "    </tr>\n",
       "    <tr>\n",
       "      <th>unique</th>\n",
       "      <td>38</td>\n",
       "      <td>41</td>\n",
       "      <td>18</td>\n",
       "      <td>4</td>\n",
       "      <td>4</td>\n",
       "    </tr>\n",
       "    <tr>\n",
       "      <th>top</th>\n",
       "      <td>4,000 MX$</td>\n",
       "      <td>Residencial Monte Magno, Xalapa</td>\n",
       "      <td>N/A</td>\n",
       "      <td>1</td>\n",
       "      <td>1</td>\n",
       "    </tr>\n",
       "    <tr>\n",
       "      <th>freq</th>\n",
       "      <td>8</td>\n",
       "      <td>17</td>\n",
       "      <td>52</td>\n",
       "      <td>53</td>\n",
       "      <td>69</td>\n",
       "    </tr>\n",
       "  </tbody>\n",
       "</table>\n",
       "</div>"
      ],
      "text/plain": [
       "           Precio                        Direccion Area Cuartos Baños\n",
       "count         107                              107  107     107   107\n",
       "unique         38                               41   18       4     4\n",
       "top     4,000 MX$  Residencial Monte Magno, Xalapa  N/A       1     1\n",
       "freq            8                               17   52      53    69"
      ]
     },
     "execution_count": 288,
     "metadata": {},
     "output_type": "execute_result"
    }
   ],
   "source": [
    "df.describe()"
   ]
  },
  {
   "cell_type": "code",
   "execution_count": 289,
   "id": "a7528305-328d-43b6-b561-da01af7704fb",
   "metadata": {},
   "outputs": [],
   "source": [
    "os.remove('Xalapa-Departamentos.csv')"
   ]
  },
  {
   "cell_type": "code",
   "execution_count": 290,
   "id": "61dfe045-ed77-4e29-9d0f-c8889cab9fdb",
   "metadata": {},
   "outputs": [],
   "source": [
    "df.to_csv('Xalapa-Departamentos.csv', index=False, encoding='utf-8')"
   ]
  }
 ],
 "metadata": {
  "kernelspec": {
   "display_name": "Python 3 (ipykernel)",
   "language": "python",
   "name": "python3"
  },
  "language_info": {
   "codemirror_mode": {
    "name": "ipython",
    "version": 3
   },
   "file_extension": ".py",
   "mimetype": "text/x-python",
   "name": "python",
   "nbconvert_exporter": "python",
   "pygments_lexer": "ipython3",
   "version": "3.10.9"
  }
 },
 "nbformat": 4,
 "nbformat_minor": 5
}
